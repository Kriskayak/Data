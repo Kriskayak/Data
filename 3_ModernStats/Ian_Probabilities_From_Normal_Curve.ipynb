{
 "cells": [
  {
   "cell_type": "markdown",
   "metadata": {},
   "source": [
    "# Computing probabilities from a normal curve\n",
    "This little tutorial is designed to help you understand how to calculate probabilities from a normal distribution. First (as is often the case) we import some useful packages that other really smart people wrote for us :)"
   ]
  },
  {
   "cell_type": "code",
   "execution_count": null,
   "metadata": {},
   "outputs": [],
   "source": [
    "# Import some useful python packages\n",
    "import numpy as np # for math\n",
    "import matplotlib.pyplot as plt # for plotting capabilities\n",
    "%config InlineBackend.figure_format = 'retina'\n",
    "%matplotlib inline"
   ]
  },
  {
   "cell_type": "markdown",
   "metadata": {},
   "source": [
    "Remember that the equation for a normal probability density function is given by\n",
    "\n",
    "$p(x) = \\frac{1}{\\sqrt{2\\pi \\sigma^2}} \\exp\\left[-\\frac{\\left(x-x_0\\right)^2}{2\\sigma^2}\\right]$\n",
    "\n",
    "where $x_0$ is the mean of the distribution and $\\sigma$ is the standard deviation.\n",
    "\n",
    "In order to make our lives easier, let's create a function that can easily create a normal curve given values of the independent variable, the mean, and the standard deviation of the curve. "
   ]
  },
  {
   "cell_type": "code",
   "execution_count": null,
   "metadata": {},
   "outputs": [],
   "source": [
    "def normal_curve(x,mu,sig):\n",
    "    p = 1/(np.sqrt(2*np.pi)*sig)*np.exp(-(x-mu)**2/(2*sig**2))\n",
    "    return p"
   ]
  },
  {
   "cell_type": "markdown",
   "metadata": {},
   "source": [
    "Now let's take a look at the shape of a normal curves by playing around with the parameters"
   ]
  },
  {
   "cell_type": "code",
   "execution_count": null,
   "metadata": {},
   "outputs": [],
   "source": [
    "# Define parameters and a vector of x values\n",
    "x = np.linspace(-20,40,1000)\n",
    "mu = 10.5\n",
    "sig = 3.3"
   ]
  },
  {
   "cell_type": "code",
   "execution_count": null,
   "metadata": {},
   "outputs": [],
   "source": [
    "plt.figure(1,figsize=(8,6))\n",
    "plt.plot(x,normal_curve(x,mu,sig),'-k')"
   ]
  },
  {
   "cell_type": "markdown",
   "metadata": {},
   "source": [
    "We know, since the normal curve is a PDF, that the area under the curve is equal to exactly 1. However, the question we want to ask ourselves is what fraction of the area under the curve exists between to specified points on the $x$ axis?\n",
    "\n",
    "Let's set up a plot to visualize what we are after..."
   ]
  },
  {
   "cell_type": "code",
   "execution_count": null,
   "metadata": {},
   "outputs": [],
   "source": [
    "dx = 3\n",
    "x0 = mu - dx\n",
    "x1 = mu + dx\n",
    "plt.figure(2,figsize=(8,6))\n",
    "plt.plot(x,normal_curve(x,mu,sig),'-k')\n",
    "plt.axhline(y=0,linestyle='--',color='r')\n",
    "ymin,ymax = plt.ylim()\n",
    "plt.plot([x0,x0],[0,normal_curve(x0,mu,sig)],linestyle='--',color='red')\n",
    "plt.plot([x1,x1],[0,normal_curve(x1,mu,sig)],linestyle='--',color='red')\n",
    "plt.plot([mu,mu],[0,normal_curve(mu,mu,sig)],linestyle='--',color='blue')\n",
    "\n",
    "# Create a plot fill\n",
    "xfill = np.linspace(x0,x1,100)\n",
    "top = normal_curve(xfill,mu,sig)\n",
    "bottom = np.zeros(100)\n",
    "plt.fill_between(xfill,top,bottom,color='red',alpha=0.5)"
   ]
  },
  {
   "cell_type": "markdown",
   "metadata": {},
   "source": [
    "The way we find the area under a normal curve is by using the \"error function.\" The error function is defined as\n",
    "$$ \\textrm{erf}\\, x = \\frac{1}{\\sqrt{\\pi}}\\int_{-x}^x e^{-t^2}dt$$\n",
    "Because of the symmetry of the normal curve, this integral cal also be expressed as:\n",
    "$$ \\textrm{erf}\\, x = \\frac{2}{\\sqrt{\\pi}}\\int_{0}^x e^{-t^2}dt$$\n",
    "\n",
    "Because our limits are set up symmetrically, the evaluation of the area is relatively straightforward. But first let's make sure that the total area under the curve is equal to 1."
   ]
  },
  {
   "cell_type": "code",
   "execution_count": null,
   "metadata": {},
   "outputs": [],
   "source": [
    "from scipy.special import erf\n",
    "erf(np.inf)"
   ]
  },
  {
   "cell_type": "markdown",
   "metadata": {},
   "source": [
    "Ok, That works out! So let's try to find the area below the normal curve from plus and minus 3 around the mean. Because of the way the error function is defined (notice that the standard deviation is $\\frac{1}{\\sqrt{2}}$), we have to be clever about how we evaluate this function"
   ]
  },
  {
   "cell_type": "code",
   "execution_count": null,
   "metadata": {},
   "outputs": [],
   "source": [
    "# How many standard deviations away from the mean is the limit?\n",
    "nsig = dx/sig\n",
    "# Reormalize argument to account for extra factor of square root of 2\n",
    "corr = 1./np.sqrt(2)\n",
    "arg = nsig*corr\n",
    "area = erf(arg)\n",
    "print('Area under the curve is: %.4f'%area)"
   ]
  },
  {
   "cell_type": "markdown",
   "metadata": {},
   "source": [
    "What if we want to find the area under the curve on one side of the normal curve from the mean?"
   ]
  },
  {
   "cell_type": "code",
   "execution_count": null,
   "metadata": {},
   "outputs": [],
   "source": [
    "dx = 4\n",
    "x0 = mu\n",
    "x1 = mu + dx\n",
    "plt.figure(3,figsize=(8,6))\n",
    "plt.plot(x,normal_curve(x,mu,sig),'-k')\n",
    "plt.axhline(y=0,linestyle='--',color='r')\n",
    "ymin,ymax = plt.ylim()\n",
    "plt.plot([x0,x0],[0,normal_curve(x0,mu,sig)],linestyle='--',color='red')\n",
    "plt.plot([x1,x1],[0,normal_curve(x1,mu,sig)],linestyle='--',color='red')\n",
    "plt.plot([mu,mu],[0,normal_curve(mu,mu,sig)],linestyle='--',color='blue')\n",
    "\n",
    "# Create a plot fill\n",
    "xfill = np.linspace(x0,x1,100)\n",
    "top = normal_curve(xfill,mu,sig)\n",
    "bottom = np.zeros(100)\n",
    "plt.fill_between(xfill,top,bottom,color='red',alpha=0.5)"
   ]
  },
  {
   "cell_type": "code",
   "execution_count": null,
   "metadata": {},
   "outputs": [],
   "source": [
    "# How many standard deviations away from the mean is the limit?\n",
    "nsig = dx/sig\n",
    "# Reormalize argument to account for extra factor of square root of 2\n",
    "corr = 1./np.sqrt(2)\n",
    "arg = nsig*corr\n",
    "area = 0.5*erf(arg)\n",
    "print('Area under the curve is: %.4f'%area)"
   ]
  },
  {
   "cell_type": "markdown",
   "metadata": {},
   "source": [
    "Why does this work?"
   ]
  },
  {
   "cell_type": "markdown",
   "metadata": {
    "collapsed": true
   },
   "source": [
    "## Homework\n",
    "Now that you are familiar with the way these functions work, your task will be to\n",
    "1. Define an asymmetric interval around the mean of a custom normal curve.\n",
    "2. Plot the curve and the interval such that you can visualize the area under the curve. \n",
    "3. Calculate the area under the curve on this asymmetric interval\n",
    "4. Save and upload your notebook to the repo"
   ]
  },
  {
   "cell_type": "code",
   "execution_count": null,
   "metadata": {},
   "outputs": [],
   "source": []
  }
 ],
 "metadata": {
  "kernelspec": {
   "display_name": "Python 2",
   "language": "python",
   "name": "python2"
  },
  "language_info": {
   "codemirror_mode": {
    "name": "ipython",
    "version": 2
   },
   "file_extension": ".py",
   "mimetype": "text/x-python",
   "name": "python",
   "nbconvert_exporter": "python",
   "pygments_lexer": "ipython2",
   "version": "2.7.16"
  }
 },
 "nbformat": 4,
 "nbformat_minor": 1
}
