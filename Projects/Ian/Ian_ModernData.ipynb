{
 "nbformat": 4,
 "nbformat_minor": 2,
 "metadata": {
  "language_info": {
   "name": "python",
   "codemirror_mode": {
    "name": "ipython",
    "version": 3
   },
   "version": "3.7.6-final"
  },
  "orig_nbformat": 2,
  "file_extension": ".py",
  "mimetype": "text/x-python",
  "name": "python",
  "npconvert_exporter": "python",
  "pygments_lexer": "ipython3",
  "version": 3,
  "kernelspec": {
   "name": "python3",
   "display_name": "Python 3"
  }
 },
 "cells": [
  {
   "cell_type": "code",
   "execution_count": 2,
   "metadata": {},
   "outputs": [],
   "source": [
    "import pandas as pd\n",
    "pd.options.display.max_columns =None\n",
    "pd.options.display.max_rows =40\n",
    "filename = 'country_patience.csv'\n",
    "df = pd.read_csv(filename)"
   ]
  },
  {
   "cell_type": "code",
   "execution_count": 3,
   "metadata": {},
   "outputs": [
    {
     "output_type": "execute_result",
     "data": {
      "text/plain": "            Entity Code  Year  \\\n0      Afghanistan  AFG  2012   \n1          Algeria  DZA  2012   \n2        Argentina  ARG  2012   \n3        Australia  AUS  2012   \n4          Austria  AUT  2012   \n..             ...  ...   ...   \n71  United Kingdom  GBR  2012   \n72   United States  USA  2012   \n73       Venezuela  VEN  2012   \n74         Vietnam  VNM  2012   \n75        Zimbabwe  ZWE  2012   \n\n    Patience (time preference) (Falk et al. (2018) GPS)  \n0                                           -0.201360    \n1                                            0.059815    \n2                                           -0.229308    \n3                                            0.657004    \n4                                            0.608285    \n..                                                ...    \n71                                           0.535025    \n72                                           0.811262    \n73                                          -0.227118    \n74                                           0.110500    \n75                                          -0.238587    \n\n[76 rows x 4 columns]",
      "text/html": "<div>\n<style scoped>\n    .dataframe tbody tr th:only-of-type {\n        vertical-align: middle;\n    }\n\n    .dataframe tbody tr th {\n        vertical-align: top;\n    }\n\n    .dataframe thead th {\n        text-align: right;\n    }\n</style>\n<table border=\"1\" class=\"dataframe\">\n  <thead>\n    <tr style=\"text-align: right;\">\n      <th></th>\n      <th>Entity</th>\n      <th>Code</th>\n      <th>Year</th>\n      <th>Patience (time preference) (Falk et al. (2018) GPS)</th>\n    </tr>\n  </thead>\n  <tbody>\n    <tr>\n      <th>0</th>\n      <td>Afghanistan</td>\n      <td>AFG</td>\n      <td>2012</td>\n      <td>-0.201360</td>\n    </tr>\n    <tr>\n      <th>1</th>\n      <td>Algeria</td>\n      <td>DZA</td>\n      <td>2012</td>\n      <td>0.059815</td>\n    </tr>\n    <tr>\n      <th>2</th>\n      <td>Argentina</td>\n      <td>ARG</td>\n      <td>2012</td>\n      <td>-0.229308</td>\n    </tr>\n    <tr>\n      <th>3</th>\n      <td>Australia</td>\n      <td>AUS</td>\n      <td>2012</td>\n      <td>0.657004</td>\n    </tr>\n    <tr>\n      <th>4</th>\n      <td>Austria</td>\n      <td>AUT</td>\n      <td>2012</td>\n      <td>0.608285</td>\n    </tr>\n    <tr>\n      <th>...</th>\n      <td>...</td>\n      <td>...</td>\n      <td>...</td>\n      <td>...</td>\n    </tr>\n    <tr>\n      <th>71</th>\n      <td>United Kingdom</td>\n      <td>GBR</td>\n      <td>2012</td>\n      <td>0.535025</td>\n    </tr>\n    <tr>\n      <th>72</th>\n      <td>United States</td>\n      <td>USA</td>\n      <td>2012</td>\n      <td>0.811262</td>\n    </tr>\n    <tr>\n      <th>73</th>\n      <td>Venezuela</td>\n      <td>VEN</td>\n      <td>2012</td>\n      <td>-0.227118</td>\n    </tr>\n    <tr>\n      <th>74</th>\n      <td>Vietnam</td>\n      <td>VNM</td>\n      <td>2012</td>\n      <td>0.110500</td>\n    </tr>\n    <tr>\n      <th>75</th>\n      <td>Zimbabwe</td>\n      <td>ZWE</td>\n      <td>2012</td>\n      <td>-0.238587</td>\n    </tr>\n  </tbody>\n</table>\n<p>76 rows × 4 columns</p>\n</div>"
     },
     "metadata": {},
     "execution_count": 3
    }
   ],
   "source": [
    "df"
   ]
  },
  {
   "cell_type": "code",
   "execution_count": 4,
   "metadata": {},
   "outputs": [
    {
     "output_type": "execute_result",
     "data": {
      "text/plain": "(76, 4)"
     },
     "metadata": {},
     "execution_count": 4
    }
   ],
   "source": [
    "df.shape"
   ]
  },
  {
   "cell_type": "code",
   "execution_count": 5,
   "metadata": {},
   "outputs": [
    {
     "output_type": "execute_result",
     "data": {
      "text/plain": "Entity                                                  object\nCode                                                    object\nYear                                                     int64\nPatience (time preference) (Falk et al. (2018) GPS)    float64\ndtype: object"
     },
     "metadata": {},
     "execution_count": 5
    }
   ],
   "source": [
    "df.dtypes"
   ]
  },
  {
   "cell_type": "code",
   "execution_count": 8,
   "metadata": {},
   "outputs": [],
   "source": [
    "df.columns = ['Country', 'Code','Year','Patience']"
   ]
  },
  {
   "cell_type": "code",
   "execution_count": 9,
   "metadata": {},
   "outputs": [
    {
     "output_type": "execute_result",
     "data": {
      "text/plain": "           Country Code  Year  Patience\n0      Afghanistan  AFG  2012 -0.201360\n1          Algeria  DZA  2012  0.059815\n2        Argentina  ARG  2012 -0.229308\n3        Australia  AUS  2012  0.657004\n4          Austria  AUT  2012  0.608285\n..             ...  ...   ...       ...\n71  United Kingdom  GBR  2012  0.535025\n72   United States  USA  2012  0.811262\n73       Venezuela  VEN  2012 -0.227118\n74         Vietnam  VNM  2012  0.110500\n75        Zimbabwe  ZWE  2012 -0.238587\n\n[76 rows x 4 columns]",
      "text/html": "<div>\n<style scoped>\n    .dataframe tbody tr th:only-of-type {\n        vertical-align: middle;\n    }\n\n    .dataframe tbody tr th {\n        vertical-align: top;\n    }\n\n    .dataframe thead th {\n        text-align: right;\n    }\n</style>\n<table border=\"1\" class=\"dataframe\">\n  <thead>\n    <tr style=\"text-align: right;\">\n      <th></th>\n      <th>Country</th>\n      <th>Code</th>\n      <th>Year</th>\n      <th>Patience</th>\n    </tr>\n  </thead>\n  <tbody>\n    <tr>\n      <th>0</th>\n      <td>Afghanistan</td>\n      <td>AFG</td>\n      <td>2012</td>\n      <td>-0.201360</td>\n    </tr>\n    <tr>\n      <th>1</th>\n      <td>Algeria</td>\n      <td>DZA</td>\n      <td>2012</td>\n      <td>0.059815</td>\n    </tr>\n    <tr>\n      <th>2</th>\n      <td>Argentina</td>\n      <td>ARG</td>\n      <td>2012</td>\n      <td>-0.229308</td>\n    </tr>\n    <tr>\n      <th>3</th>\n      <td>Australia</td>\n      <td>AUS</td>\n      <td>2012</td>\n      <td>0.657004</td>\n    </tr>\n    <tr>\n      <th>4</th>\n      <td>Austria</td>\n      <td>AUT</td>\n      <td>2012</td>\n      <td>0.608285</td>\n    </tr>\n    <tr>\n      <th>...</th>\n      <td>...</td>\n      <td>...</td>\n      <td>...</td>\n      <td>...</td>\n    </tr>\n    <tr>\n      <th>71</th>\n      <td>United Kingdom</td>\n      <td>GBR</td>\n      <td>2012</td>\n      <td>0.535025</td>\n    </tr>\n    <tr>\n      <th>72</th>\n      <td>United States</td>\n      <td>USA</td>\n      <td>2012</td>\n      <td>0.811262</td>\n    </tr>\n    <tr>\n      <th>73</th>\n      <td>Venezuela</td>\n      <td>VEN</td>\n      <td>2012</td>\n      <td>-0.227118</td>\n    </tr>\n    <tr>\n      <th>74</th>\n      <td>Vietnam</td>\n      <td>VNM</td>\n      <td>2012</td>\n      <td>0.110500</td>\n    </tr>\n    <tr>\n      <th>75</th>\n      <td>Zimbabwe</td>\n      <td>ZWE</td>\n      <td>2012</td>\n      <td>-0.238587</td>\n    </tr>\n  </tbody>\n</table>\n<p>76 rows × 4 columns</p>\n</div>"
     },
     "metadata": {},
     "execution_count": 9
    }
   ],
   "source": [
    "df"
   ]
  },
  {
   "cell_type": "code",
   "execution_count": null,
   "metadata": {},
   "outputs": [],
   "source": []
  }
 ]
}