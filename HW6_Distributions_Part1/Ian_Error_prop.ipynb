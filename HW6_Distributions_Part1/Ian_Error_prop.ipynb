{
 "cells": [
  {
   "cell_type": "markdown",
   "metadata": {},
   "source": [
    "# Introduction to Error Propagation\n",
    "This is another short little introduction to get you acquianted with the idea that data with errors actually designate probability distributions. Those distributions then evolve if further calculations are performed with them. The study of this phenomenon is called \"error propagation.\" \n",
    "\n",
    "There are ways to estimate the magnitude of errors as they propagate through calculations using calculus. However, they are only estimations which utilize the tangent line approximation of a function. To get a better handle on how errors propagate through calculations, we use our ability to generate distributions using numpy utilities."
   ]
  },
  {
   "cell_type": "markdown",
   "metadata": {},
   "source": [
    "First (as is often the case) we import some useful packages that other really smart people wrote for us :)"
   ]
  },
  {
   "cell_type": "code",
   "execution_count": null,
   "metadata": {},
   "outputs": [],
   "source": [
    "# Import some useful python packages\n",
    "import numpy as np # for math\n",
    "import matplotlib.pyplot as plt # for plotting capabilities\n",
    "%config InlineBackend.figure_format = 'retina'\n",
    "%matplotlib inline"
   ]
  },
  {
   "cell_type": "markdown",
   "metadata": {},
   "source": [
    "Now we will generate random numbers \"normally\" distributed around some mean value. This means that the probability of drawing a number will be \n",
    "\n",
    "$p(x) = \\frac{1}{\\sqrt{2\\pi \\sigma^2}} \\exp\\left[-\\frac{\\left(x-x_0\\right)^2}{2\\sigma^2}\\right]$\n",
    "\n",
    "where $x_0$ is the mean of the distribution and $\\sigma$ is the standard deviation."
   ]
  },
  {
   "cell_type": "code",
   "execution_count": null,
   "metadata": {},
   "outputs": [],
   "source": [
    "# mean of 5, standard deviation of 0.2, 100000 elements\n",
    "d1 = np.random.normal(5,0.2,100000) "
   ]
  },
  {
   "cell_type": "markdown",
   "metadata": {},
   "source": [
    "So, what is d1? ... it's a bunch of numbers!"
   ]
  },
  {
   "cell_type": "code",
   "execution_count": null,
   "metadata": {},
   "outputs": [],
   "source": [
    "print(d1)"
   ]
  },
  {
   "cell_type": "markdown",
   "metadata": {},
   "source": [
    "What does the histogram of those numbers look like?"
   ]
  },
  {
   "cell_type": "code",
   "execution_count": null,
   "metadata": {},
   "outputs": [],
   "source": [
    "hist = plt.hist(d1,bins=100,alpha=0.5,density=True)"
   ]
  },
  {
   "cell_type": "markdown",
   "metadata": {},
   "source": [
    "How does that compare with the normal function?"
   ]
  },
  {
   "cell_type": "code",
   "execution_count": null,
   "metadata": {},
   "outputs": [],
   "source": [
    "hist = plt.hist(d1,bins=100,alpha=0.5,density=True)\n",
    "x = np.linspace(4,6,1000)\n",
    "p = 1/(np.sqrt(2*np.pi)*0.2)*np.exp(-(x-5)**2/(2*0.2**2))\n",
    "plt.plot(x,p,'r-')"
   ]
  },
  {
   "cell_type": "markdown",
   "metadata": {},
   "source": [
    "Perty darn good! Now let's create another distribution."
   ]
  },
  {
   "cell_type": "code",
   "execution_count": null,
   "metadata": {},
   "outputs": [],
   "source": [
    "# mean of 3, standard deviation of 0.15, 100000 elements\n",
    "d2 = np.random.normal(3,0.15,100000)"
   ]
  },
  {
   "cell_type": "markdown",
   "metadata": {},
   "source": [
    "Now let's plot them both on the same axes."
   ]
  },
  {
   "cell_type": "code",
   "execution_count": null,
   "metadata": {
    "scrolled": true
   },
   "outputs": [],
   "source": [
    "# Plot a histogram of d1 values\n",
    "hist = plt.hist(d1,bins=100,alpha=0.5,density=True)\n",
    "# Annotate the plot\n",
    "plt.annotate(r'$\\sigma = 0.15$',(3,2.8),ha='center')\n",
    "\n",
    "# Plot a histogram of d2 values\n",
    "plt.hist(d2,bins=100,alpha=0.5,density=True)\n",
    "# Annotate the plot\n",
    "plt.annotate(r'$\\sigma = 0.20$',(5,2.3),ha='center')\n",
    "\n",
    "# Label the axes\n",
    "plt.xlabel('Number Value')\n",
    "plt.ylabel('Frequency');"
   ]
  },
  {
   "cell_type": "markdown",
   "metadata": {},
   "source": [
    "Now let's see what happens when you add these two \"numbers\""
   ]
  },
  {
   "cell_type": "code",
   "execution_count": null,
   "metadata": {},
   "outputs": [],
   "source": [
    "# Plot first distribution (i.e. \"number\")\n",
    "hist = plt.hist(d1,bins=100,alpha=0.5,density=True)\n",
    "# Annotate the plot\n",
    "plt.annotate(r'$\\sigma = 0.15$',(3,2.8),ha='center')\n",
    "\n",
    "# Plot a histogram of d2 values\n",
    "plt.hist(d2,bins=100,alpha=0.5,density=True)\n",
    "# Annotate the plot\n",
    "plt.annotate(r'$\\sigma = 0.20$',(5,2.3),ha='center')\n",
    "\n",
    "# Label the axes\n",
    "plt.xlabel('Number Value')\n",
    "plt.ylabel('Frequency')\n",
    "\n",
    "# What happens when you add the two distributions?\n",
    "d3 = d2+d1\n",
    "# Plot the resultant distribution\n",
    "plt.hist(d3,bins=100,alpha=0.5,density=True)\n",
    "# What is the real standard deviation?\n",
    "std3r = np.std(d3)\n",
    "# What do we expect?\n",
    "std3c = np.sqrt(0.2**2+0.1**2)\n",
    "# Annotate the plot\n",
    "plt.annotate(r'$\\sigma = %.2f$' % std3r,(8,2.0),ha='center');"
   ]
  },
  {
   "cell_type": "markdown",
   "metadata": {},
   "source": [
    "Now you can experiment with other mathematical operations"
   ]
  },
  {
   "cell_type": "code",
   "execution_count": null,
   "metadata": {},
   "outputs": [],
   "source": [
    "# Plot the first \"number\"\n",
    "hist = plt.hist(d1,bins=100,alpha=0.5,density=True)\n",
    "# Annotate the plot\n",
    "plt.annotate(r'$\\sigma = 0.15$',(3,2.8),ha='center')\n",
    "\n",
    "# Plot a histogram of d2 values\n",
    "plt.hist(d2,bins=100,alpha=0.5,density=True)\n",
    "# Annotate the plot\n",
    "plt.annotate(r'$\\sigma = 0.20$',(5,2.3),ha='center')\n",
    "\n",
    "# Label the axes\n",
    "plt.xlabel('Number Value')\n",
    "plt.ylabel('Frequency')\n",
    "\n",
    "\n",
    "# What happens when we multiply the two distributions?\n",
    "d4 = d1*d2\n",
    "# Plot the resultant distribution\n",
    "plt.hist(d4,bins=100,alpha=0.5,density=True)\n",
    "# What is the real standard deviation?\n",
    "std4r = np.std(d4)\n",
    "# What do we expect?\n",
    "std4c = np.sqrt((0.2*np.mean(d2))**2 + (0.15*np.mean(d1))**2)\n",
    "# Annotate plot\n",
    "plt.annotate(r'$\\sigma = %.2f$' % std4r,(15,0.6),ha='center')\n",
    "print(std4r, std4c)"
   ]
  },
  {
   "cell_type": "code",
   "execution_count": null,
   "metadata": {},
   "outputs": [],
   "source": [
    "hist = plt.hist(d1,bins=100,alpha=0.5,density=True)\n",
    "# Annotate the plot\n",
    "plt.annotate(r'$\\sigma = 0.15$',(3,2.8),ha='center')\n",
    "\n",
    "# Label the axes\n",
    "plt.xlabel('Number Value')\n",
    "plt.ylabel('Frequency')\n",
    "\n",
    "d5 = d1**2.0\n",
    "plt.hist(d5,bins=100,alpha=0.5,density=True)\n",
    "std5r = np.std(d5)\n",
    "std5c = 4.0*np.mean(d1)**3*0.2"
   ]
  },
  {
   "cell_type": "markdown",
   "metadata": {
    "collapsed": true
   },
   "source": [
    "## Homework\n",
    "Find a familiar equation from science, math or statistics that contains at least 3 variables. Here are a couple that you may use, but best to find one that you are somewhat interested in.\n",
    "$$F_g = G\\frac{m_1m_2}{r^2} \\quad\\quad v_{orb} = \\sqrt{\\frac{GM}{r}} \\quad\\quad d = \\frac{1}{2}at^2+v_0t+d_0 $$\n",
    "Then follow the directions below to gain some experience propagating error\n",
    "1. Choose 2 variables in your equatio to have errors and the others can have no error.\n",
    "2. Generate distributions that represent the values with errors, and specify the values of the other variables.\n",
    "3. Plot up on separate axes a histogram for each of the variables with error.\n",
    "4. Perform the calculation that your equation requires. \n",
    "5. Plot the histogram of the final answer. \n",
    "6. Go back and change the errors of the variables to investigate how the errors propagate to your final answer. \n",
    "7. Make a final plot of your final answer that has labeled axes and a title. \n",
    "8. Save and upload your notebook to the repo."
   ]
  },
  {
   "cell_type": "code",
   "execution_count": null,
   "metadata": {},
   "outputs": [],
   "source": []
  }
 ],
 "metadata": {
  "kernelspec": {
   "display_name": "Python 2",
   "language": "python",
   "name": "python2"
  },
  "language_info": {
   "codemirror_mode": {
    "name": "ipython",
    "version": 2
   },
   "file_extension": ".py",
   "mimetype": "text/x-python",
   "name": "python",
   "nbconvert_exporter": "python",
   "pygments_lexer": "ipython2",
   "version": "2.7.16"
  }
 },
 "nbformat": 4,
 "nbformat_minor": 1
}
