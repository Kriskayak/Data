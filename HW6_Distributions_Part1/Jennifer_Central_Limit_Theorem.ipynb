{
 "cells": [
  {
   "cell_type": "markdown",
   "metadata": {},
   "source": [
    "# The Central Limit Theorem\n",
    "In this exercise we will explore and demonstrate the Central Limit Theorem—a very important idea that arises in much of science and data analysis. The theorem states that the average of a series of numbers will always follow a Gaussian, or \"normal,\" probability distribution regardless of the probability distribution that the data points were drawn from.\n",
    "\n",
    "A Gaussian probability distribution (or density) function (PDF) is given by \n",
    "$$ p(x) = \\frac{1}{\\sqrt{2\\pi\\sigma^2}}\\exp\\left[-\\frac{(x-x_0)^2}{2\\sigma^2}\\right] $$\n",
    "where $x_0$ is the mean of the distribution, and $\\sigma$ is the standard deviation of the distribution."
   ]
  },
  {
   "cell_type": "markdown",
   "metadata": {},
   "source": [
    "Let's first take a look at a gaussian function"
   ]
  },
  {
   "cell_type": "code",
   "execution_count": null,
   "metadata": {},
   "outputs": [],
   "source": [
    "# Load in useful packages and make plots display inline\n",
    "import numpy as np\n",
    "import matplotlib.pyplot as plt\n",
    "from tqdm import tqdm\n",
    "%config InlineBackend.figure_format = 'retina'\n",
    "%matplotlib inline"
   ]
  },
  {
   "cell_type": "markdown",
   "metadata": {},
   "source": [
    "To make life easy, let's first make a function that creates a Gaussian curve"
   ]
  },
  {
   "cell_type": "code",
   "execution_count": null,
   "metadata": {},
   "outputs": [],
   "source": [
    "def gauss(sig=1,x0=0):\n",
    "    x = np.linspace(x0-10*sig,x0+10*sig,1000)\n",
    "    y = 1.0/(np.sqrt(2*np.pi)*sig)*np.exp(-(x-x0)**2/(2*sig**2))\n",
    "    return x,y"
   ]
  },
  {
   "cell_type": "code",
   "execution_count": null,
   "metadata": {},
   "outputs": [],
   "source": [
    "x,y = gauss(sig=5,x0=12)\n",
    "plt.plot(x,y)\n",
    "plt.title('Gaussian Curve')"
   ]
  },
  {
   "cell_type": "markdown",
   "metadata": {},
   "source": [
    "Go ahead and change the mean and standard deviation and see how the curve changes...\n",
    "\n",
    "Now, what does it mean to say that we \"draw\" numbers from a normal distribution? It means that numbers are drawn randomly with probability equal to the value of a Gaussian function with a given mean and standard deviation. Luckily, there is a very nice numpy function that will do this for us."
   ]
  },
  {
   "cell_type": "code",
   "execution_count": null,
   "metadata": {},
   "outputs": [],
   "source": [
    "# This draws 100 samples from a normal distribution with a mean of \"0\" and a standard deviation of \"1\"\n",
    "rand = np.random.normal(0,1,100)\n",
    "print(rand)"
   ]
  },
  {
   "cell_type": "markdown",
   "metadata": {},
   "source": [
    "Hmm. Ok, it's just a bunch of values. But what are the frequency of the values?"
   ]
  },
  {
   "cell_type": "code",
   "execution_count": null,
   "metadata": {},
   "outputs": [],
   "source": [
    "hist = plt.hist(rand,bins=20,density=True)"
   ]
  },
  {
   "cell_type": "markdown",
   "metadata": {},
   "source": [
    "Interesting! It (sort of) looks like a normal distribution. Why don't you try upping the number of samples drawn to 1000, or more! You can also increase the number of bins in your histogram. \n",
    "\n",
    "Next, let's overplot a Gaussian curve with the same mean and standard deviation."
   ]
  },
  {
   "cell_type": "code",
   "execution_count": null,
   "metadata": {},
   "outputs": [],
   "source": [
    "hist = plt.hist(np.random.normal(0,1,10000),bins=50,normed=True,edgecolor='none')\n",
    "x,y = gauss(sig=1,x0=0)\n",
    "plt.plot(x,y,'r--')"
   ]
  },
  {
   "cell_type": "markdown",
   "metadata": {},
   "source": [
    "You can see that it follows the curve very well.\n",
    "\n",
    "Now let's look at what it looks like to draw a bunch of samples from a different distribution. We'll use a lognormal form. Don't worry if we have not gone over what a lognormal PDF is yet, you can look <a href='https://en.wikipedia.org/wiki/Log-normal_distribution'>here</a> to get some quick info about it, or just take it as fact that it is an asymmetric distribution. "
   ]
  },
  {
   "cell_type": "code",
   "execution_count": null,
   "metadata": {},
   "outputs": [],
   "source": [
    "# This line \"draws\" 100000 samples\n",
    "dist = np.random.lognormal(0,1,100000)\n",
    "plt.hist(dist[dist<10],bins=100,normed=True)\n",
    "# This is what the mean of the distribution should be\n",
    "plt.axvline(x=np.sqrt(np.e),linestyle='-',color='red')\n",
    "# This is the actual mean of the distribution\n",
    "plt.axvline(x=np.mean(dist),linestyle='--',color='green')\n",
    "\n",
    "print(np.sqrt(np.e),np.mean(dist))"
   ]
  },
  {
   "cell_type": "markdown",
   "metadata": {},
   "source": [
    "Ok, so, there is a well defined mean. But this sure looks different than a normal distribution.\n",
    "\n",
    "Now on to the Central Limit Theorem (the point of this whole exercise!). The CLT states that if we average many lognormal distributions that the result should be Gaussian! "
   ]
  },
  {
   "cell_type": "code",
   "execution_count": null,
   "metadata": {},
   "outputs": [],
   "source": [
    "size = 10000\n",
    "plt.figure(1,figsize=(8,6))\n",
    "dist1 = np.random.lognormal(0,1,size)\n",
    "dist2 = np.random.lognormal(0,1,size)\n",
    "dist3 = np.random.lognormal(0,1,size)\n",
    "dist = (dist1+dist2+dist3)/3.0\n",
    "hist = plt.hist(dist1,bins=200,normed=True,edgecolor='none',alpha=0.35,color='red',label='$d_1$')\n",
    "hist = plt.hist(dist2,bins=200,normed=True,edgecolor='none',alpha=0.35,color='blue',label='$d_2$')\n",
    "hist = plt.hist(dist3,bins=200,normed=True,edgecolor='none',alpha=0.35,color='yellow',label='$d_3$')\n",
    "hist = plt.hist(dist,bins=200,normed=True,edgecolor='none',alpha=0.35,color='green',label='$d_1+d_2+d_3$')\n",
    "plt.xlim(0,10)\n",
    "leg = plt.legend()\n"
   ]
  },
  {
   "cell_type": "markdown",
   "metadata": {},
   "source": [
    "Hmmm. It looks like the peak of the resultant distribution has moved to the right some, but it sure doesn't look Gaussian!\n",
    "\n",
    "Let's average many, many lognormal distributions and see what happens..."
   ]
  },
  {
   "cell_type": "code",
   "execution_count": null,
   "metadata": {},
   "outputs": [],
   "source": [
    "# The size of each distribution\n",
    "size = 10000\n",
    "\n",
    "# The number of distributions that we will average\n",
    "ndist = 100000\n",
    "\n",
    "# Create an array of zeros and then accumulate the values from each draw.\n",
    "dist =  np.zeros(size)\n",
    "pbar = tqdm(desc='Averaging distributions',unit='dists',total=ndist)\n",
    "for i in range(ndist):\n",
    "    dist += np.random.lognormal(0,1,size)\n",
    "    pbar.update(1)\n",
    "pbar.close()\n",
    "\n",
    "# Now divide by the number of distributions to find the average values\n",
    "dist /= np.float(ndist)\n",
    "\n",
    "# Plot the resultant distribution\n",
    "hist = plt.hist(dist,bins=100,normed=True,edgecolor='none')"
   ]
  },
  {
   "cell_type": "markdown",
   "metadata": {},
   "source": [
    "Holy moly! It sure looks Gaussian. But is it really?"
   ]
  },
  {
   "cell_type": "code",
   "execution_count": null,
   "metadata": {},
   "outputs": [],
   "source": [
    "hist = plt.hist(dist,bins=100,normed=True,edgecolor='none')\n",
    "x,y = gauss(x0=np.mean(dist),sig=np.std(dist))\n",
    "plt.plot(x,y,'r--')\n",
    "xlim = plt.xlim(1.56,1.74)"
   ]
  },
  {
   "cell_type": "markdown",
   "metadata": {
    "collapsed": true
   },
   "source": [
    "## Homework\n",
    "Demonstrate the CLT with a different distribution and save it in a python script or module. When complete you will push that code to the same directory as this notebook on the repo. Please call your script \"YourName_CLT.py\". There are many distributions you can choose from <a href=\"https://docs.scipy.org/doc/numpy-1.14.0/reference/routines.random.html\">here</a>. Also, you may (are expected to) copy and edit code from this notebook to commplete this task."
   ]
  }
 ],
 "metadata": {
  "kernelspec": {
   "display_name": "Python 2",
   "language": "python",
   "name": "python2"
  },
  "language_info": {
   "codemirror_mode": {
    "name": "ipython",
    "version": 2
   },
   "file_extension": ".py",
   "mimetype": "text/x-python",
   "name": "python",
   "nbconvert_exporter": "python",
   "pygments_lexer": "ipython2",
   "version": "2.7.16"
  }
 },
 "nbformat": 4,
 "nbformat_minor": 1
}
