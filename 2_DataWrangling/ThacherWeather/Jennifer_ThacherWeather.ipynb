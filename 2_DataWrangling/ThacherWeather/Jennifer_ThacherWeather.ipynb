{
 "cells": [
  {
   "cell_type": "markdown",
   "metadata": {},
   "source": [
    "# Thacher Observatory Weather Data\n",
    "This is an introductory exploration into data wrangling, visualization, and analysis. This notebook will step you through some rudimentary steps leaving the bulk of the exploration up to you.\n",
    "\n",
    "First order of duty is to import all the amazing code that other people have written for our benefit."
   ]
  },
  {
   "cell_type": "code",
   "execution_count": 1,
   "metadata": {},
   "outputs": [],
   "source": [
    "# To clear output\n",
    "# jupyter nbconvert --to notebook --ClearOutputPreprocessor.enabled=True --inplace\n",
    "\n",
    "# Pandas is a very useful python package (read: library, or module) for data acquisition and analysis\n",
    "import pandas as pd\n",
    "\n",
    "# Matplotlib is a large and powerful library for visualizing data\n",
    "import matplotlib.pyplot as plt\n",
    "# These commands force plots to be displayed in-line\n",
    "%config InlineBackend.figure_format = 'retina'\n",
    "%matplotlib inline\n",
    "\n",
    "# Numpy is another large and powerful library for dealing with math and arithmetic\n",
    "import numpy as np"
   ]
  },
  {
   "cell_type": "code",
   "execution_count": 2,
   "metadata": {},
   "outputs": [
    {
     "data": {
      "text/plain": [
       "['BooleanDtype',\n",
       " 'Categorical',\n",
       " 'CategoricalDtype',\n",
       " 'CategoricalIndex',\n",
       " 'DataFrame',\n",
       " 'DateOffset',\n",
       " 'DatetimeIndex',\n",
       " 'DatetimeTZDtype',\n",
       " 'ExcelFile',\n",
       " 'ExcelWriter',\n",
       " 'Float64Index',\n",
       " 'Grouper',\n",
       " 'HDFStore',\n",
       " 'Index',\n",
       " 'IndexSlice',\n",
       " 'Int16Dtype',\n",
       " 'Int32Dtype',\n",
       " 'Int64Dtype',\n",
       " 'Int64Index',\n",
       " 'Int8Dtype',\n",
       " 'Interval',\n",
       " 'IntervalDtype',\n",
       " 'IntervalIndex',\n",
       " 'MultiIndex',\n",
       " 'NA',\n",
       " 'NaT',\n",
       " 'NamedAgg',\n",
       " 'Period',\n",
       " 'PeriodDtype',\n",
       " 'PeriodIndex',\n",
       " 'RangeIndex',\n",
       " 'Series',\n",
       " 'SparseDtype',\n",
       " 'StringDtype',\n",
       " 'Timedelta',\n",
       " 'TimedeltaIndex',\n",
       " 'Timestamp',\n",
       " 'UInt16Dtype',\n",
       " 'UInt32Dtype',\n",
       " 'UInt64Dtype',\n",
       " 'UInt64Index',\n",
       " 'UInt8Dtype',\n",
       " '__builtins__',\n",
       " '__cached__',\n",
       " '__doc__',\n",
       " '__docformat__',\n",
       " '__file__',\n",
       " '__getattr__',\n",
       " '__git_version__',\n",
       " '__loader__',\n",
       " '__name__',\n",
       " '__package__',\n",
       " '__path__',\n",
       " '__spec__',\n",
       " '__version__',\n",
       " '_config',\n",
       " '_hashtable',\n",
       " '_lib',\n",
       " '_libs',\n",
       " '_np_version_under1p14',\n",
       " '_np_version_under1p15',\n",
       " '_np_version_under1p16',\n",
       " '_np_version_under1p17',\n",
       " '_np_version_under1p18',\n",
       " '_testing',\n",
       " '_tslib',\n",
       " '_typing',\n",
       " '_version',\n",
       " 'api',\n",
       " 'array',\n",
       " 'arrays',\n",
       " 'bdate_range',\n",
       " 'compat',\n",
       " 'concat',\n",
       " 'core',\n",
       " 'crosstab',\n",
       " 'cut',\n",
       " 'date_range',\n",
       " 'describe_option',\n",
       " 'errors',\n",
       " 'eval',\n",
       " 'factorize',\n",
       " 'get_dummies',\n",
       " 'get_option',\n",
       " 'infer_freq',\n",
       " 'interval_range',\n",
       " 'io',\n",
       " 'isna',\n",
       " 'isnull',\n",
       " 'json_normalize',\n",
       " 'lreshape',\n",
       " 'melt',\n",
       " 'merge',\n",
       " 'merge_asof',\n",
       " 'merge_ordered',\n",
       " 'notna',\n",
       " 'notnull',\n",
       " 'offsets',\n",
       " 'option_context',\n",
       " 'options',\n",
       " 'pandas',\n",
       " 'period_range',\n",
       " 'pivot',\n",
       " 'pivot_table',\n",
       " 'plotting',\n",
       " 'qcut',\n",
       " 'read_clipboard',\n",
       " 'read_csv',\n",
       " 'read_excel',\n",
       " 'read_feather',\n",
       " 'read_fwf',\n",
       " 'read_gbq',\n",
       " 'read_hdf',\n",
       " 'read_html',\n",
       " 'read_json',\n",
       " 'read_orc',\n",
       " 'read_parquet',\n",
       " 'read_pickle',\n",
       " 'read_sas',\n",
       " 'read_spss',\n",
       " 'read_sql',\n",
       " 'read_sql_query',\n",
       " 'read_sql_table',\n",
       " 'read_stata',\n",
       " 'read_table',\n",
       " 'reset_option',\n",
       " 'set_eng_float_format',\n",
       " 'set_option',\n",
       " 'show_versions',\n",
       " 'test',\n",
       " 'testing',\n",
       " 'timedelta_range',\n",
       " 'to_datetime',\n",
       " 'to_numeric',\n",
       " 'to_pickle',\n",
       " 'to_timedelta',\n",
       " 'tseries',\n",
       " 'unique',\n",
       " 'util',\n",
       " 'value_counts',\n",
       " 'wide_to_long']"
      ]
     },
     "execution_count": 2,
     "metadata": {},
     "output_type": "execute_result"
    }
   ],
   "source": [
    "# To look at the attributes and methods of any object use the \"dir\" function.\n",
    "dir(pd)"
   ]
  },
  {
   "cell_type": "markdown",
   "metadata": {},
   "source": [
    "Now let us \"load\" a dataset. Loading a dataset is not always as straightforward as one might hope, and the process of getting data into machine readable format, reading the data, and otherwise preparing the data for further analysis is called \"data wrangling.\"\n",
    "\n",
    "In dealing with a dataset that you've never seen before, you might want to start with determining the kind of dataset you are working with. Here are some tips:\n",
    "\n",
    "<ol><li>What kind of extension does the dataset have?</li>\n",
    "<li>Is it binary or ASCII (American Standard Code for Information Interchange)?</li>\n",
    "<li>If it is ASCII, is it a common form: CSV, TXT, XML?</li>\n",
    "<li>If not you may use your favorite editor to look at it.</li>\n",
    "    <ol><li>What delimiters are being used: tab, comma, pipe, etc.?</li></ol>\n",
    "<li>If it is binary, does the extension signify what binary format is being used?</li>\n",
    "<ol><li>Look at online documentation about binary file format.</li>\n",
    "     <li>Look for python package that will help you read that data.</li></ol>\n",
    "</ol>\n",
    "    \n",
    "To start out, let's look at a pretty well behaved dataset. It is the file called WS_data_2014.txt. You can open it with your favorite text editor: TextEdit (Mac), Emacs (cross platform), VI (oldie but goodie), nano (UNIX-like), pico (UNIX-like), etc. This file is simply a text file, so you can even open it from the Home page of you Jupyter session.\n",
    "\n",
    "To read this dataset into python using pandas use the following command"
   ]
  },
  {
   "cell_type": "code",
   "execution_count": 3,
   "metadata": {},
   "outputs": [],
   "source": [
    "data = pd.read_csv('WS_data_2014.txt',sep='\\t')"
   ]
  },
  {
   "cell_type": "code",
   "execution_count": 4,
   "metadata": {},
   "outputs": [
    {
     "data": {
      "text/plain": [
       "pandas.core.frame.DataFrame"
      ]
     },
     "execution_count": 4,
     "metadata": {},
     "output_type": "execute_result"
    }
   ],
   "source": [
    "# Let's take a look at what the function \"read_table\" returned into the variable \n",
    "# (is is actually a pandas DataFrame, which is very much like a python dictionary)\n",
    "type(data)"
   ]
  },
  {
   "cell_type": "code",
   "execution_count": 5,
   "metadata": {},
   "outputs": [
    {
     "data": {
      "text/plain": [
       "30744"
      ]
     },
     "execution_count": 5,
     "metadata": {},
     "output_type": "execute_result"
    }
   ],
   "source": [
    "len(data)"
   ]
  },
  {
   "cell_type": "code",
   "execution_count": 6,
   "metadata": {},
   "outputs": [
    {
     "data": {
      "text/html": [
       "<div>\n",
       "<style scoped>\n",
       "    .dataframe tbody tr th:only-of-type {\n",
       "        vertical-align: middle;\n",
       "    }\n",
       "\n",
       "    .dataframe tbody tr th {\n",
       "        vertical-align: top;\n",
       "    }\n",
       "\n",
       "    .dataframe thead th {\n",
       "        text-align: right;\n",
       "    }\n",
       "</style>\n",
       "<table border=\"1\" class=\"dataframe\">\n",
       "  <thead>\n",
       "    <tr style=\"text-align: right;\">\n",
       "      <th></th>\n",
       "      <th>Unnamed: 0</th>\n",
       "      <th>Unnamed: 1</th>\n",
       "      <th>Unnamed: 2</th>\n",
       "      <th>Unnamed: 3</th>\n",
       "      <th>Heat</th>\n",
       "      <th>Temp</th>\n",
       "      <th>Wind</th>\n",
       "      <th>Hi</th>\n",
       "      <th>Low</th>\n",
       "      <th>Hum</th>\n",
       "      <th>Dew</th>\n",
       "      <th>Wind.1</th>\n",
       "      <th>Unnamed: 12</th>\n",
       "      <th>Unnamed: 13</th>\n",
       "      <th>Unnamed: 14</th>\n",
       "      <th>Unnamed: 15</th>\n",
       "      <th>Temp.1</th>\n",
       "      <th>Hum.1</th>\n",
       "      <th>Archive</th>\n",
       "    </tr>\n",
       "  </thead>\n",
       "  <tbody>\n",
       "    <tr>\n",
       "      <th>0</th>\n",
       "      <td>Date</td>\n",
       "      <td>NaN</td>\n",
       "      <td>Time</td>\n",
       "      <td>NaN</td>\n",
       "      <td>Index</td>\n",
       "      <td>Out</td>\n",
       "      <td>Chill</td>\n",
       "      <td>Temp</td>\n",
       "      <td>Temp</td>\n",
       "      <td>Out</td>\n",
       "      <td>Pt.</td>\n",
       "      <td>Speed</td>\n",
       "      <td>Hi</td>\n",
       "      <td>Dir</td>\n",
       "      <td>Rain</td>\n",
       "      <td>Bar</td>\n",
       "      <td>In</td>\n",
       "      <td>In</td>\n",
       "      <td>NaN</td>\n",
       "    </tr>\n",
       "    <tr>\n",
       "      <th>1</th>\n",
       "      <td>----------------------------------------------...</td>\n",
       "      <td>NaN</td>\n",
       "      <td>NaN</td>\n",
       "      <td>NaN</td>\n",
       "      <td>NaN</td>\n",
       "      <td>NaN</td>\n",
       "      <td>NaN</td>\n",
       "      <td>NaN</td>\n",
       "      <td>NaN</td>\n",
       "      <td>NaN</td>\n",
       "      <td>NaN</td>\n",
       "      <td>NaN</td>\n",
       "      <td>NaN</td>\n",
       "      <td>NaN</td>\n",
       "      <td>NaN</td>\n",
       "      <td>NaN</td>\n",
       "      <td>NaN</td>\n",
       "      <td>NaN</td>\n",
       "      <td>NaN</td>\n",
       "    </tr>\n",
       "    <tr>\n",
       "      <th>2</th>\n",
       "      <td>1-01-14</td>\n",
       "      <td>NaN</td>\n",
       "      <td>12:00 AM</td>\n",
       "      <td>50.7</td>\n",
       "      <td>53.1</td>\n",
       "      <td>53.1</td>\n",
       "      <td>53.1</td>\n",
       "      <td>52.2</td>\n",
       "      <td>33</td>\n",
       "      <td>24.7</td>\n",
       "      <td>1</td>\n",
       "      <td>2</td>\n",
       "      <td>ENE</td>\n",
       "      <td>0.0</td>\n",
       "      <td>30.125</td>\n",
       "      <td>62.6</td>\n",
       "      <td>25</td>\n",
       "      <td>15</td>\n",
       "      <td>NaN</td>\n",
       "    </tr>\n",
       "    <tr>\n",
       "      <th>3</th>\n",
       "      <td>1-01-14</td>\n",
       "      <td>NaN</td>\n",
       "      <td>12:15 AM</td>\n",
       "      <td>50.7</td>\n",
       "      <td>53.2</td>\n",
       "      <td>53.2</td>\n",
       "      <td>53.5</td>\n",
       "      <td>53.1</td>\n",
       "      <td>32</td>\n",
       "      <td>24.1</td>\n",
       "      <td>1</td>\n",
       "      <td>2</td>\n",
       "      <td>ENE</td>\n",
       "      <td>0.0</td>\n",
       "      <td>30.123</td>\n",
       "      <td>62.5</td>\n",
       "      <td>25</td>\n",
       "      <td>15</td>\n",
       "      <td>NaN</td>\n",
       "    </tr>\n",
       "    <tr>\n",
       "      <th>4</th>\n",
       "      <td>1-01-14</td>\n",
       "      <td>NaN</td>\n",
       "      <td>12:30 AM</td>\n",
       "      <td>50.2</td>\n",
       "      <td>52.6</td>\n",
       "      <td>52.6</td>\n",
       "      <td>53.2</td>\n",
       "      <td>52.6</td>\n",
       "      <td>32</td>\n",
       "      <td>23.5</td>\n",
       "      <td>1</td>\n",
       "      <td>2</td>\n",
       "      <td>ENE</td>\n",
       "      <td>0.0</td>\n",
       "      <td>30.126</td>\n",
       "      <td>62.4</td>\n",
       "      <td>24</td>\n",
       "      <td>15</td>\n",
       "      <td>NaN</td>\n",
       "    </tr>\n",
       "    <tr>\n",
       "      <th>...</th>\n",
       "      <td>...</td>\n",
       "      <td>...</td>\n",
       "      <td>...</td>\n",
       "      <td>...</td>\n",
       "      <td>...</td>\n",
       "      <td>...</td>\n",
       "      <td>...</td>\n",
       "      <td>...</td>\n",
       "      <td>...</td>\n",
       "      <td>...</td>\n",
       "      <td>...</td>\n",
       "      <td>...</td>\n",
       "      <td>...</td>\n",
       "      <td>...</td>\n",
       "      <td>...</td>\n",
       "      <td>...</td>\n",
       "      <td>...</td>\n",
       "      <td>...</td>\n",
       "      <td>...</td>\n",
       "    </tr>\n",
       "    <tr>\n",
       "      <th>30739</th>\n",
       "      <td>12-11-14</td>\n",
       "      <td>NaN</td>\n",
       "      <td>6:45 AM</td>\n",
       "      <td>52.0</td>\n",
       "      <td>52.4</td>\n",
       "      <td>52.4</td>\n",
       "      <td>52.4</td>\n",
       "      <td>52.0</td>\n",
       "      <td>76</td>\n",
       "      <td>45.1</td>\n",
       "      <td>0</td>\n",
       "      <td>2</td>\n",
       "      <td>ENE</td>\n",
       "      <td>0.0</td>\n",
       "      <td>29.943</td>\n",
       "      <td>72.5</td>\n",
       "      <td>39</td>\n",
       "      <td>15</td>\n",
       "      <td>NaN</td>\n",
       "    </tr>\n",
       "    <tr>\n",
       "      <th>30740</th>\n",
       "      <td>12-11-14</td>\n",
       "      <td>NaN</td>\n",
       "      <td>7:00 AM</td>\n",
       "      <td>52.0</td>\n",
       "      <td>52.3</td>\n",
       "      <td>52.3</td>\n",
       "      <td>52.5</td>\n",
       "      <td>52.3</td>\n",
       "      <td>79</td>\n",
       "      <td>46.0</td>\n",
       "      <td>0</td>\n",
       "      <td>1</td>\n",
       "      <td>ESE</td>\n",
       "      <td>0.0</td>\n",
       "      <td>29.95</td>\n",
       "      <td>72.0</td>\n",
       "      <td>39</td>\n",
       "      <td>15</td>\n",
       "      <td>NaN</td>\n",
       "    </tr>\n",
       "    <tr>\n",
       "      <th>30741</th>\n",
       "      <td>12-11-14</td>\n",
       "      <td>NaN</td>\n",
       "      <td>7:15 AM</td>\n",
       "      <td>54.1</td>\n",
       "      <td>54.2</td>\n",
       "      <td>54.2</td>\n",
       "      <td>54.2</td>\n",
       "      <td>52.3</td>\n",
       "      <td>84</td>\n",
       "      <td>49.5</td>\n",
       "      <td>0</td>\n",
       "      <td>3</td>\n",
       "      <td>ENE</td>\n",
       "      <td>0.0</td>\n",
       "      <td>29.952</td>\n",
       "      <td>72.9</td>\n",
       "      <td>41</td>\n",
       "      <td>15</td>\n",
       "      <td>NaN</td>\n",
       "    </tr>\n",
       "    <tr>\n",
       "      <th>30742</th>\n",
       "      <td>12-11-14</td>\n",
       "      <td>NaN</td>\n",
       "      <td>7:30 AM</td>\n",
       "      <td>55.3</td>\n",
       "      <td>55.6</td>\n",
       "      <td>55.6</td>\n",
       "      <td>55.6</td>\n",
       "      <td>54.2</td>\n",
       "      <td>81</td>\n",
       "      <td>49.9</td>\n",
       "      <td>1</td>\n",
       "      <td>3</td>\n",
       "      <td>ENE</td>\n",
       "      <td>0.0</td>\n",
       "      <td>29.951</td>\n",
       "      <td>72.6</td>\n",
       "      <td>43</td>\n",
       "      <td>15</td>\n",
       "      <td>NaN</td>\n",
       "    </tr>\n",
       "    <tr>\n",
       "      <th>30743</th>\n",
       "      <td>12-11-14</td>\n",
       "      <td>NaN</td>\n",
       "      <td>7:45 AM</td>\n",
       "      <td>55.0</td>\n",
       "      <td>55.4</td>\n",
       "      <td>55.4</td>\n",
       "      <td>55.7</td>\n",
       "      <td>55.4</td>\n",
       "      <td>77</td>\n",
       "      <td>48.3</td>\n",
       "      <td>0</td>\n",
       "      <td>1</td>\n",
       "      <td>SE</td>\n",
       "      <td>0.0</td>\n",
       "      <td>29.956</td>\n",
       "      <td>72.1</td>\n",
       "      <td>43</td>\n",
       "      <td>15</td>\n",
       "      <td>NaN</td>\n",
       "    </tr>\n",
       "  </tbody>\n",
       "</table>\n",
       "<p>30744 rows × 19 columns</p>\n",
       "</div>"
      ],
      "text/plain": [
       "                                              Unnamed: 0  Unnamed: 1  \\\n",
       "0                                                   Date         NaN   \n",
       "1      ----------------------------------------------...         NaN   \n",
       "2                                                1-01-14         NaN   \n",
       "3                                                1-01-14         NaN   \n",
       "4                                                1-01-14         NaN   \n",
       "...                                                  ...         ...   \n",
       "30739                                           12-11-14         NaN   \n",
       "30740                                           12-11-14         NaN   \n",
       "30741                                           12-11-14         NaN   \n",
       "30742                                           12-11-14         NaN   \n",
       "30743                                           12-11-14         NaN   \n",
       "\n",
       "        Unnamed: 2 Unnamed: 3   Heat  Temp   Wind    Hi   Low   Hum  Dew  \\\n",
       "0             Time        NaN  Index   Out  Chill  Temp  Temp   Out  Pt.   \n",
       "1              NaN        NaN    NaN   NaN    NaN   NaN   NaN   NaN  NaN   \n",
       "2      12:00 AM          50.7   53.1  53.1   53.1  52.2    33  24.7    1   \n",
       "3      12:15 AM          50.7   53.2  53.2   53.5  53.1    32  24.1    1   \n",
       "4      12:30 AM          50.2   52.6  52.6   53.2  52.6    32  23.5    1   \n",
       "...            ...        ...    ...   ...    ...   ...   ...   ...  ...   \n",
       "30739   6:45 AM          52.0   52.4  52.4   52.4  52.0    76  45.1    0   \n",
       "30740   7:00 AM          52.0   52.3  52.3   52.5  52.3    79  46.0    0   \n",
       "30741   7:15 AM          54.1   54.2  54.2   54.2  52.3    84  49.5    0   \n",
       "30742   7:30 AM          55.3   55.6  55.6   55.6  54.2    81  49.9    1   \n",
       "30743   7:45 AM          55.0   55.4  55.4   55.7  55.4    77  48.3    0   \n",
       "\n",
       "      Wind.1 Unnamed: 12 Unnamed: 13 Unnamed: 14 Unnamed: 15 Temp.1 Hum.1  \\\n",
       "0      Speed          Hi         Dir        Rain         Bar     In    In   \n",
       "1        NaN         NaN         NaN         NaN         NaN    NaN   NaN   \n",
       "2          2         ENE         0.0      30.125        62.6     25    15   \n",
       "3          2         ENE         0.0      30.123        62.5     25    15   \n",
       "4          2         ENE         0.0      30.126        62.4     24    15   \n",
       "...      ...         ...         ...         ...         ...    ...   ...   \n",
       "30739      2         ENE         0.0      29.943        72.5     39    15   \n",
       "30740      1         ESE         0.0       29.95        72.0     39    15   \n",
       "30741      3         ENE         0.0      29.952        72.9     41    15   \n",
       "30742      3         ENE         0.0      29.951        72.6     43    15   \n",
       "30743      1          SE         0.0      29.956        72.1     43    15   \n",
       "\n",
       "       Archive  \n",
       "0          NaN  \n",
       "1          NaN  \n",
       "2          NaN  \n",
       "3          NaN  \n",
       "4          NaN  \n",
       "...        ...  \n",
       "30739      NaN  \n",
       "30740      NaN  \n",
       "30741      NaN  \n",
       "30742      NaN  \n",
       "30743      NaN  \n",
       "\n",
       "[30744 rows x 19 columns]"
      ]
     },
     "execution_count": 6,
     "metadata": {},
     "output_type": "execute_result"
    }
   ],
   "source": [
    "data"
   ]
  },
  {
   "cell_type": "code",
   "execution_count": 7,
   "metadata": {},
   "outputs": [],
   "source": [
    "# Knowing our data a little bit better, we could have directed the read_table function a little bit better\n",
    "data = pd.read_csv('WS_data_2014.txt',sep='\\t',\n",
    "                     usecols=[0,2,3,4,5,6,7,8,9,10,11,12,13,14,15,16,17],\n",
    "                     skiprows=[0,1],header=0,names=['Date','Time','Heat Index',\n",
    "                                                     'Temp Out','Wind Chill','Hi Temp',\n",
    "                                                     'Low Temp','Hum Out','Dew Pt.','Wind Speed',\n",
    "                                                     'Wind Hi','Wind Dir','Rain','Barometer',\n",
    "                                                     'Temp In','Hum In','Archive'],\n",
    "                    na_values='--')"
   ]
  },
  {
   "cell_type": "code",
   "execution_count": 8,
   "metadata": {},
   "outputs": [
    {
     "data": {
      "text/html": [
       "<div>\n",
       "<style scoped>\n",
       "    .dataframe tbody tr th:only-of-type {\n",
       "        vertical-align: middle;\n",
       "    }\n",
       "\n",
       "    .dataframe tbody tr th {\n",
       "        vertical-align: top;\n",
       "    }\n",
       "\n",
       "    .dataframe thead th {\n",
       "        text-align: right;\n",
       "    }\n",
       "</style>\n",
       "<table border=\"1\" class=\"dataframe\">\n",
       "  <thead>\n",
       "    <tr style=\"text-align: right;\">\n",
       "      <th></th>\n",
       "      <th>Date</th>\n",
       "      <th>Time</th>\n",
       "      <th>Heat Index</th>\n",
       "      <th>Temp Out</th>\n",
       "      <th>Wind Chill</th>\n",
       "      <th>Hi Temp</th>\n",
       "      <th>Low Temp</th>\n",
       "      <th>Hum Out</th>\n",
       "      <th>Dew Pt.</th>\n",
       "      <th>Wind Speed</th>\n",
       "      <th>Wind Hi</th>\n",
       "      <th>Wind Dir</th>\n",
       "      <th>Rain</th>\n",
       "      <th>Barometer</th>\n",
       "      <th>Temp In</th>\n",
       "      <th>Hum In</th>\n",
       "      <th>Archive</th>\n",
       "    </tr>\n",
       "  </thead>\n",
       "  <tbody>\n",
       "    <tr>\n",
       "      <th>0</th>\n",
       "      <td>1-01-14</td>\n",
       "      <td>12:00 AM</td>\n",
       "      <td>50.7</td>\n",
       "      <td>53.1</td>\n",
       "      <td>53.1</td>\n",
       "      <td>53.1</td>\n",
       "      <td>52.2</td>\n",
       "      <td>33.0</td>\n",
       "      <td>24.7</td>\n",
       "      <td>1</td>\n",
       "      <td>2</td>\n",
       "      <td>ENE</td>\n",
       "      <td>0.0</td>\n",
       "      <td>30.125</td>\n",
       "      <td>62.6</td>\n",
       "      <td>25</td>\n",
       "      <td>15</td>\n",
       "    </tr>\n",
       "    <tr>\n",
       "      <th>1</th>\n",
       "      <td>1-01-14</td>\n",
       "      <td>12:15 AM</td>\n",
       "      <td>50.7</td>\n",
       "      <td>53.2</td>\n",
       "      <td>53.2</td>\n",
       "      <td>53.5</td>\n",
       "      <td>53.1</td>\n",
       "      <td>32.0</td>\n",
       "      <td>24.1</td>\n",
       "      <td>1</td>\n",
       "      <td>2</td>\n",
       "      <td>ENE</td>\n",
       "      <td>0.0</td>\n",
       "      <td>30.123</td>\n",
       "      <td>62.5</td>\n",
       "      <td>25</td>\n",
       "      <td>15</td>\n",
       "    </tr>\n",
       "    <tr>\n",
       "      <th>2</th>\n",
       "      <td>1-01-14</td>\n",
       "      <td>12:30 AM</td>\n",
       "      <td>50.2</td>\n",
       "      <td>52.6</td>\n",
       "      <td>52.6</td>\n",
       "      <td>53.2</td>\n",
       "      <td>52.6</td>\n",
       "      <td>32.0</td>\n",
       "      <td>23.5</td>\n",
       "      <td>1</td>\n",
       "      <td>2</td>\n",
       "      <td>ENE</td>\n",
       "      <td>0.0</td>\n",
       "      <td>30.126</td>\n",
       "      <td>62.4</td>\n",
       "      <td>24</td>\n",
       "      <td>15</td>\n",
       "    </tr>\n",
       "    <tr>\n",
       "      <th>3</th>\n",
       "      <td>1-01-14</td>\n",
       "      <td>12:45 AM</td>\n",
       "      <td>50.7</td>\n",
       "      <td>53.4</td>\n",
       "      <td>53.4</td>\n",
       "      <td>53.4</td>\n",
       "      <td>52.4</td>\n",
       "      <td>30.0</td>\n",
       "      <td>22.7</td>\n",
       "      <td>2</td>\n",
       "      <td>3</td>\n",
       "      <td>NE</td>\n",
       "      <td>0.0</td>\n",
       "      <td>30.126</td>\n",
       "      <td>62.4</td>\n",
       "      <td>24</td>\n",
       "      <td>15</td>\n",
       "    </tr>\n",
       "    <tr>\n",
       "      <th>4</th>\n",
       "      <td>1-01-14</td>\n",
       "      <td>1:00 AM</td>\n",
       "      <td>50.4</td>\n",
       "      <td>53.1</td>\n",
       "      <td>53.1</td>\n",
       "      <td>53.5</td>\n",
       "      <td>53.0</td>\n",
       "      <td>29.0</td>\n",
       "      <td>21.6</td>\n",
       "      <td>2</td>\n",
       "      <td>4</td>\n",
       "      <td>ENE</td>\n",
       "      <td>0.0</td>\n",
       "      <td>30.121</td>\n",
       "      <td>62.2</td>\n",
       "      <td>24</td>\n",
       "      <td>15</td>\n",
       "    </tr>\n",
       "    <tr>\n",
       "      <th>...</th>\n",
       "      <td>...</td>\n",
       "      <td>...</td>\n",
       "      <td>...</td>\n",
       "      <td>...</td>\n",
       "      <td>...</td>\n",
       "      <td>...</td>\n",
       "      <td>...</td>\n",
       "      <td>...</td>\n",
       "      <td>...</td>\n",
       "      <td>...</td>\n",
       "      <td>...</td>\n",
       "      <td>...</td>\n",
       "      <td>...</td>\n",
       "      <td>...</td>\n",
       "      <td>...</td>\n",
       "      <td>...</td>\n",
       "      <td>...</td>\n",
       "    </tr>\n",
       "    <tr>\n",
       "      <th>30737</th>\n",
       "      <td>12-11-14</td>\n",
       "      <td>6:45 AM</td>\n",
       "      <td>52.0</td>\n",
       "      <td>52.4</td>\n",
       "      <td>52.4</td>\n",
       "      <td>52.4</td>\n",
       "      <td>52.0</td>\n",
       "      <td>76.0</td>\n",
       "      <td>45.1</td>\n",
       "      <td>0</td>\n",
       "      <td>2</td>\n",
       "      <td>ENE</td>\n",
       "      <td>0.0</td>\n",
       "      <td>29.943</td>\n",
       "      <td>72.5</td>\n",
       "      <td>39</td>\n",
       "      <td>15</td>\n",
       "    </tr>\n",
       "    <tr>\n",
       "      <th>30738</th>\n",
       "      <td>12-11-14</td>\n",
       "      <td>7:00 AM</td>\n",
       "      <td>52.0</td>\n",
       "      <td>52.3</td>\n",
       "      <td>52.3</td>\n",
       "      <td>52.5</td>\n",
       "      <td>52.3</td>\n",
       "      <td>79.0</td>\n",
       "      <td>46.0</td>\n",
       "      <td>0</td>\n",
       "      <td>1</td>\n",
       "      <td>ESE</td>\n",
       "      <td>0.0</td>\n",
       "      <td>29.950</td>\n",
       "      <td>72.0</td>\n",
       "      <td>39</td>\n",
       "      <td>15</td>\n",
       "    </tr>\n",
       "    <tr>\n",
       "      <th>30739</th>\n",
       "      <td>12-11-14</td>\n",
       "      <td>7:15 AM</td>\n",
       "      <td>54.1</td>\n",
       "      <td>54.2</td>\n",
       "      <td>54.2</td>\n",
       "      <td>54.2</td>\n",
       "      <td>52.3</td>\n",
       "      <td>84.0</td>\n",
       "      <td>49.5</td>\n",
       "      <td>0</td>\n",
       "      <td>3</td>\n",
       "      <td>ENE</td>\n",
       "      <td>0.0</td>\n",
       "      <td>29.952</td>\n",
       "      <td>72.9</td>\n",
       "      <td>41</td>\n",
       "      <td>15</td>\n",
       "    </tr>\n",
       "    <tr>\n",
       "      <th>30740</th>\n",
       "      <td>12-11-14</td>\n",
       "      <td>7:30 AM</td>\n",
       "      <td>55.3</td>\n",
       "      <td>55.6</td>\n",
       "      <td>55.6</td>\n",
       "      <td>55.6</td>\n",
       "      <td>54.2</td>\n",
       "      <td>81.0</td>\n",
       "      <td>49.9</td>\n",
       "      <td>1</td>\n",
       "      <td>3</td>\n",
       "      <td>ENE</td>\n",
       "      <td>0.0</td>\n",
       "      <td>29.951</td>\n",
       "      <td>72.6</td>\n",
       "      <td>43</td>\n",
       "      <td>15</td>\n",
       "    </tr>\n",
       "    <tr>\n",
       "      <th>30741</th>\n",
       "      <td>12-11-14</td>\n",
       "      <td>7:45 AM</td>\n",
       "      <td>55.0</td>\n",
       "      <td>55.4</td>\n",
       "      <td>55.4</td>\n",
       "      <td>55.7</td>\n",
       "      <td>55.4</td>\n",
       "      <td>77.0</td>\n",
       "      <td>48.3</td>\n",
       "      <td>0</td>\n",
       "      <td>1</td>\n",
       "      <td>SE</td>\n",
       "      <td>0.0</td>\n",
       "      <td>29.956</td>\n",
       "      <td>72.1</td>\n",
       "      <td>43</td>\n",
       "      <td>15</td>\n",
       "    </tr>\n",
       "  </tbody>\n",
       "</table>\n",
       "<p>30742 rows × 17 columns</p>\n",
       "</div>"
      ],
      "text/plain": [
       "           Date         Time  Heat Index  Temp Out  Wind Chill  Hi Temp  \\\n",
       "0       1-01-14  12:00 AM           50.7      53.1        53.1     53.1   \n",
       "1       1-01-14  12:15 AM           50.7      53.2        53.2     53.5   \n",
       "2       1-01-14  12:30 AM           50.2      52.6        52.6     53.2   \n",
       "3       1-01-14  12:45 AM           50.7      53.4        53.4     53.4   \n",
       "4       1-01-14   1:00 AM           50.4      53.1        53.1     53.5   \n",
       "...         ...          ...         ...       ...         ...      ...   \n",
       "30737  12-11-14   6:45 AM           52.0      52.4        52.4     52.4   \n",
       "30738  12-11-14   7:00 AM           52.0      52.3        52.3     52.5   \n",
       "30739  12-11-14   7:15 AM           54.1      54.2        54.2     54.2   \n",
       "30740  12-11-14   7:30 AM           55.3      55.6        55.6     55.6   \n",
       "30741  12-11-14   7:45 AM           55.0      55.4        55.4     55.7   \n",
       "\n",
       "       Low Temp  Hum Out  Dew Pt.  Wind Speed  Wind Hi Wind Dir  Rain  \\\n",
       "0          52.2     33.0     24.7           1        2      ENE   0.0   \n",
       "1          53.1     32.0     24.1           1        2      ENE   0.0   \n",
       "2          52.6     32.0     23.5           1        2      ENE   0.0   \n",
       "3          52.4     30.0     22.7           2        3       NE   0.0   \n",
       "4          53.0     29.0     21.6           2        4      ENE   0.0   \n",
       "...         ...      ...      ...         ...      ...      ...   ...   \n",
       "30737      52.0     76.0     45.1           0        2      ENE   0.0   \n",
       "30738      52.3     79.0     46.0           0        1      ESE   0.0   \n",
       "30739      52.3     84.0     49.5           0        3      ENE   0.0   \n",
       "30740      54.2     81.0     49.9           1        3      ENE   0.0   \n",
       "30741      55.4     77.0     48.3           0        1       SE   0.0   \n",
       "\n",
       "       Barometer  Temp In  Hum In  Archive  \n",
       "0         30.125     62.6      25       15  \n",
       "1         30.123     62.5      25       15  \n",
       "2         30.126     62.4      24       15  \n",
       "3         30.126     62.4      24       15  \n",
       "4         30.121     62.2      24       15  \n",
       "...          ...      ...     ...      ...  \n",
       "30737     29.943     72.5      39       15  \n",
       "30738     29.950     72.0      39       15  \n",
       "30739     29.952     72.9      41       15  \n",
       "30740     29.951     72.6      43       15  \n",
       "30741     29.956     72.1      43       15  \n",
       "\n",
       "[30742 rows x 17 columns]"
      ]
     },
     "execution_count": 8,
     "metadata": {},
     "output_type": "execute_result"
    }
   ],
   "source": [
    "data"
   ]
  },
  {
   "cell_type": "markdown",
   "metadata": {},
   "source": [
    "Now it looks like we have all the data we want in a nice, neat DataFrame. How do we access the data?"
   ]
  },
  {
   "cell_type": "code",
   "execution_count": 9,
   "metadata": {},
   "outputs": [
    {
     "data": {
      "text/plain": [
       "Index(['Date', 'Time', 'Heat Index', 'Temp Out', 'Wind Chill', 'Hi Temp',\n",
       "       'Low Temp', 'Hum Out', 'Dew Pt.', 'Wind Speed', 'Wind Hi', 'Wind Dir',\n",
       "       'Rain', 'Barometer', 'Temp In', 'Hum In', 'Archive'],\n",
       "      dtype='object')"
      ]
     },
     "execution_count": 9,
     "metadata": {},
     "output_type": "execute_result"
    }
   ],
   "source": [
    "data.keys()"
   ]
  },
  {
   "cell_type": "code",
   "execution_count": 11,
   "metadata": {},
   "outputs": [],
   "source": [
    "# This will create a variable that is a pandas series\n",
    "temp = data['Temp Out']"
   ]
  },
  {
   "cell_type": "code",
   "execution_count": 12,
   "metadata": {},
   "outputs": [
    {
     "data": {
      "text/plain": [
       "pandas.core.series.Series"
      ]
     },
     "execution_count": 12,
     "metadata": {},
     "output_type": "execute_result"
    }
   ],
   "source": [
    "type(temp)"
   ]
  },
  {
   "cell_type": "code",
   "execution_count": 13,
   "metadata": {},
   "outputs": [],
   "source": [
    "# Get just the values using this method\n",
    "temp = data['Temp Out'].values"
   ]
  },
  {
   "cell_type": "code",
   "execution_count": 18,
   "metadata": {},
   "outputs": [
    {
     "data": {
      "text/plain": [
       "numpy.ndarray"
      ]
     },
     "execution_count": 18,
     "metadata": {},
     "output_type": "execute_result"
    }
   ],
   "source": [
    "type(temp)"
   ]
  },
  {
   "cell_type": "code",
   "execution_count": 19,
   "metadata": {},
   "outputs": [
    {
     "data": {
      "text/plain": [
       "array([53.1, 53.2, 52.6, ..., 54.2, 55.6, 55.4])"
      ]
     },
     "execution_count": 19,
     "metadata": {},
     "output_type": "execute_result"
    }
   ],
   "source": [
    "temp"
   ]
  },
  {
   "cell_type": "code",
   "execution_count": 20,
   "metadata": {},
   "outputs": [
    {
     "data": {
      "text/plain": [
       "array([53.1, 53.2, 52.6, ..., 54.2, 55.6, 55.4])"
      ]
     },
     "execution_count": 20,
     "metadata": {},
     "output_type": "execute_result"
    }
   ],
   "source": [
    "temp.astype('float')"
   ]
  },
  {
   "cell_type": "code",
   "execution_count": 21,
   "metadata": {},
   "outputs": [],
   "source": [
    "# You can do fun and useful appending of dataframe columns to make new dataframes\n",
    "dtDF = data['Date']+' '+data['Time']"
   ]
  },
  {
   "cell_type": "code",
   "execution_count": 22,
   "metadata": {},
   "outputs": [
    {
     "data": {
      "text/plain": [
       "0        1-01-14 12:00 AM   \n",
       "1        1-01-14 12:15 AM   \n",
       "2        1-01-14 12:30 AM   \n",
       "3        1-01-14 12:45 AM   \n",
       "4         1-01-14 1:00 AM   \n",
       "                ...         \n",
       "30737    12-11-14 6:45 AM   \n",
       "30738    12-11-14 7:00 AM   \n",
       "30739    12-11-14 7:15 AM   \n",
       "30740    12-11-14 7:30 AM   \n",
       "30741    12-11-14 7:45 AM   \n",
       "Length: 30742, dtype: object"
      ]
     },
     "execution_count": 22,
     "metadata": {},
     "output_type": "execute_result"
    }
   ],
   "source": [
    "dtDF"
   ]
  },
  {
   "cell_type": "code",
   "execution_count": 23,
   "metadata": {},
   "outputs": [],
   "source": [
    "# datetime objects are something that we will work with a lot in this class. More to come\n",
    "dt = pd.to_datetime(dtDF).values"
   ]
  },
  {
   "cell_type": "code",
   "execution_count": 24,
   "metadata": {},
   "outputs": [
    {
     "data": {
      "text/plain": [
       "array(['2014-01-01T00:00:00.000000000', '2014-01-01T00:15:00.000000000',\n",
       "       '2014-01-01T00:30:00.000000000', ...,\n",
       "       '2014-12-11T07:15:00.000000000', '2014-12-11T07:30:00.000000000',\n",
       "       '2014-12-11T07:45:00.000000000'], dtype='datetime64[ns]')"
      ]
     },
     "execution_count": 24,
     "metadata": {},
     "output_type": "execute_result"
    }
   ],
   "source": [
    "dt"
   ]
  },
  {
   "cell_type": "code",
   "execution_count": 25,
   "metadata": {},
   "outputs": [
    {
     "data": {
      "text/plain": [
       "Text(0, 0.5, 'Temperature')"
      ]
     },
     "execution_count": 25,
     "metadata": {},
     "output_type": "execute_result"
    },
    {
     "data": {
      "image/png": "[encoded data removed]",
      "text/plain": [
       "<Figure size 432x288 with 1 Axes>"
      ]
     },
     "metadata": {
      "image/png": {
       "height": 261,
       "width": 388
      },
      "needs_background": "light"
     },
     "output_type": "display_data"
    }
   ],
   "source": [
    "from pandas.plotting import register_matplotlib_converters\n",
    "register_matplotlib_converters()\n",
    "fig,ax = plt.subplots()\n",
    "plt.plot_date(dt,temp,'k-')\n",
    "plt.title('Outside Temperature 2014')\n",
    "fig.autofmt_xdate()\n",
    "plt.ylabel('Temperature')"
   ]
  },
  {
   "cell_type": "code",
   "execution_count": 26,
   "metadata": {},
   "outputs": [
    {
     "data": {
      "text/plain": [
       "Text(0, 0.5, 'Temperature')"
      ]
     },
     "execution_count": 26,
     "metadata": {},
     "output_type": "execute_result"
    },
    {
     "data": {
      "image/png": "[encoded data removed]",
      "text/plain": [
       "<Figure size 432x288 with 1 Axes>"
      ]
     },
     "metadata": {
      "image/png": {
       "height": 254,
       "width": 404
      },
      "needs_background": "light"
     },
     "output_type": "display_data"
    }
   ],
   "source": [
    "# looks like all the data are there, but you can't see any detail\n",
    "fig,ax = plt.subplots()\n",
    "plt.plot_date(dt,temp,'k-')\n",
    "import datetime\n",
    "plt.xlim([datetime.date(2014, 1, 26), datetime.date(2014, 1, 31)])\n",
    "fig.autofmt_xdate()\n",
    "plt.ylabel('Temperature')"
   ]
  },
  {
   "cell_type": "markdown",
   "metadata": {},
   "source": [
    "How do we select out only one month of data? Make a new data frame indexed by the date, then it's easy!"
   ]
  },
  {
   "cell_type": "code",
   "execution_count": 27,
   "metadata": {},
   "outputs": [],
   "source": [
    "dtDFI = pd.DataFrame(temp,columns=['Temp'],index=dt)"
   ]
  },
  {
   "cell_type": "code",
   "execution_count": 30,
   "metadata": {},
   "outputs": [
    {
     "data": {
      "text/plain": [
       "array([[53.1],\n",
       "       [53.2],\n",
       "       [52.6],\n",
       "       ...,\n",
       "       [48.4],\n",
       "       [48.9],\n",
       "       [49. ]])"
      ]
     },
     "execution_count": 30,
     "metadata": {},
     "output_type": "execute_result"
    }
   ],
   "source": [
    "dtDFI['2014-1':'2014-2'].values"
   ]
  },
  {
   "cell_type": "code",
   "execution_count": 32,
   "metadata": {},
   "outputs": [
    {
     "data": {
      "text/plain": [
       "Text(0.5, 1.0, 'Cool Plot')"
      ]
     },
     "execution_count": 32,
     "metadata": {},
     "output_type": "execute_result"
    },
    {
     "data": {
      "image/png": "[encoded data removed]",
      "text/plain": [
       "<Figure size 432x288 with 1 Axes>"
      ]
     },
     "metadata": {
      "image/png": {
       "height": 283,
       "width": 389
      },
      "needs_background": "light"
     },
     "output_type": "display_data"
    }
   ],
   "source": [
    "fig,ax = plt.subplots()\n",
    "plt.plot(dtDFI['2014-1-1':'2014-1-10'])\n",
    "fig.autofmt_xdate()\n",
    "plt.xlabel ('Date')\n",
    "plt.ylabel ('Outside Temperature')\n",
    "plt.title('Cool Plot')"
   ]
  },
  {
   "cell_type": "markdown",
   "metadata": {},
   "source": [
    "Now let's find all the high and low daily values in January 2014"
   ]
  },
  {
   "cell_type": "code",
   "execution_count": 33,
   "metadata": {},
   "outputs": [],
   "source": [
    "maxs = []\n",
    "mins = []\n",
    "for i in np.arange(31)+1:\n",
    "    date = '2014-1-'+str(i)\n",
    "    vals = dtDFI[date].values\n",
    "    try:\n",
    "        maxs = np.append(maxs,np.max(vals))\n",
    "        mins = np.append(mins,np.min(vals))\n",
    "    except:\n",
    "        pass"
   ]
  },
  {
   "cell_type": "code",
   "execution_count": 34,
   "metadata": {},
   "outputs": [
    {
     "data": {
      "text/plain": [
       "array([78.1, 79.1, 74. , 68.9, 76.5, 75.1, 67.8, 69.7, 68.7, 74.5, 75.9,\n",
       "       74.7, 79.7, 83.3, 82.8, 85.4, 83.1, 83.3, 79.6, 81.1, 77.4, 78.8,\n",
       "       77.5, 73.6, 75.6, 64.8, 71.2, 75.9, 77.9, 55.8])"
      ]
     },
     "execution_count": 34,
     "metadata": {},
     "output_type": "execute_result"
    }
   ],
   "source": [
    "maxs"
   ]
  },
  {
   "cell_type": "code",
   "execution_count": 35,
   "metadata": {},
   "outputs": [
    {
     "data": {
      "text/plain": [
       "array([51. , 55.3, 54. , 50.6, 51.3, 51.7, 51.8, 49.7, 46.6, 52.5, 53.4,\n",
       "       50.5, 53. , 54.3, 58.9, 60. , 57.4, 56.4, 56.6, 53.4, 57.8, 52.9,\n",
       "       50. , 58.9, 54.9, 51.6, 47.6, 51.7, 55.4, 46.7])"
      ]
     },
     "execution_count": 35,
     "metadata": {},
     "output_type": "execute_result"
    }
   ],
   "source": [
    "mins"
   ]
  },
  {
   "cell_type": "code",
   "execution_count": 36,
   "metadata": {},
   "outputs": [
    {
     "data": {
      "image/png": "[encoded data removed]",
      "text/plain": [
       "<Figure size 432x288 with 1 Axes>"
      ]
     },
     "metadata": {
      "image/png": {
       "height": 248,
       "width": 362
      },
      "needs_background": "light"
     },
     "output_type": "display_data"
    }
   ],
   "source": [
    "maxhist = plt.hist(maxs,alpha=0.5)\n",
    "minhist = plt.hist(mins,alpha=0.5)"
   ]
  },
  {
   "cell_type": "code",
   "execution_count": 37,
   "metadata": {},
   "outputs": [
    {
     "data": {
      "text/plain": [
       "Text(0.5, 1.0, 'Temperature Highs/Lows January 2014')"
      ]
     },
     "execution_count": 37,
     "metadata": {},
     "output_type": "execute_result"
    },
    {
     "data": {
      "image/png": "[encoded data removed]",
      "text/plain": [
       "<Figure size 432x288 with 1 Axes>"
      ]
     },
     "metadata": {
      "image/png": {
       "height": 279,
       "width": 378
      },
      "needs_background": "light"
     },
     "output_type": "display_data"
    }
   ],
   "source": [
    "maxhist = plt.hist(maxs,alpha=0.5,bins=np.arange(50)*3,label='Daily Highs')\n",
    "minhist = plt.hist(mins,alpha=0.5,bins=np.arange(50)*3,label='Daily Lows')\n",
    "plt.xlim(30,100)\n",
    "plt.xlabel('Outside Temperature ($^\\circ\\!$F)')\n",
    "plt.legend()\n",
    "plt.title('Temperature Highs/Lows January 2014')"
   ]
  },
  {
   "cell_type": "markdown",
   "metadata": {},
   "source": [
    "# Exercises\n",
    "<ol><li>Load the data from 2015 (WeatherLink_Data_2015.txt). Notice that this is data from another weather station on campus, and is formatted differently.</li>\n",
    "<li>Plot the equivalent plot of the high and low temperatures in January</li>\n",
    "<li>Determine if the mean high and mean low are significantly different from year to year (Hint: You might want to use a <a href='https://docs.scipy.org/doc/scipy-0.18.1/reference/generated/scipy.stats.ttest_ind.html' target='_blank'>Welch's T-test</a>, though there are other techniques that we can explore).</li>\n",
    "<li>Export the code in this notebook as python code (File --> Download as --> Python (.py)). Then open that code in spyder (or equivalent IDE), clean it up and make it modular so that weather data from any year can be loaded and visualized</li>\n",
    "</ol>"
   ]
  },
  {
   "cell_type": "code",
   "execution_count": null,
   "metadata": {},
   "outputs": [],
   "source": []
  }
 ],
 "metadata": {
  "kernelspec": {
   "display_name": "Python 3",
   "language": "python",
   "name": "python3"
  },
  "language_info": {
   "codemirror_mode": {
    "name": "ipython",
    "version": 3
   },
   "file_extension": ".py",
   "mimetype": "text/x-python",
   "name": "python",
   "nbconvert_exporter": "python",
   "pygments_lexer": "ipython3",
   "version": "3.7.6"
  }
 },
 "nbformat": 4,
 "nbformat_minor": 1
}
