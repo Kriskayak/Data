{
 "cells": [
  {
   "cell_type": "markdown",
   "metadata": {},
   "source": [
    "# Load Some Data and Plot It\n",
    "\n",
    "In this short tutorial, we will experiment with loading some basic data and taking a look.\n",
    "\n",
    "First things first... load all the great modules we'll need."
   ]
  },
  {
   "cell_type": "code",
   "execution_count": null,
   "metadata": {},
   "outputs": [],
   "source": [
    "# Load numpy\n",
    "import numpy as np\n",
    "# Enable interactive plotting in the notebook\n",
    "%matplotlib notebook\n",
    "# Import matplotlib\n",
    "import matplotlib.pyplot as plt\n",
    "import pandas as pd"
   ]
  },
  {
   "cell_type": "markdown",
   "metadata": {},
   "source": [
    "There should be a file in the same directory as the jupyter notebook called \"WorldPopulation.csv\" which was downloaded from <a href=\"https://ourworldindata.org/world-population-growth\">this URL</a>. Before we try to load this data, we should look at it. This might take the form of opening it in Atom, or some other text editor. However, there is a nice shell command called \"head\" that will let you see the header of a file directly from the command line\n",
    "\n",
    "Shell commands can be run from a jupyter notebook using the special character \"!\" which should precede the command."
   ]
  },
  {
   "cell_type": "code",
   "execution_count": null,
   "metadata": {},
   "outputs": [],
   "source": [
    "# This shell command shows you the top 10 lines of a file\n",
    "!head WorldPopulation.csv"
   ]
  },
  {
   "cell_type": "markdown",
   "metadata": {},
   "source": [
    "Ok. It looks like there are three columns of data. The first line tells you what is in each column. The first column looks like an index column. Columns 2 and 3 look like year and population, respectively. \n",
    "\n",
    "There is a very simple method in numpy called <a href=\"https://docs.scipy.org/doc/numpy/reference/generated/numpy.loadtxt.html\">loadtxt</a> which will allow you to read a simple text file. Here we will need to skip the first row and specify that the delimiter is a comma. The last keyword allows you to \"unpack\" the three columns of data into individual variables. Otherwise the data would be a big matrix."
   ]
  },
  {
   "cell_type": "code",
   "execution_count": null,
   "metadata": {},
   "outputs": [],
   "source": [
    "index,year,population = np.loadtxt('WorldPopulation.csv',skiprows=1,delimiter=',',unpack=True)"
   ]
  },
  {
   "cell_type": "markdown",
   "metadata": {},
   "source": [
    "Let's see how many rows of data the file has by using the built-in python function \"len()\""
   ]
  },
  {
   "cell_type": "code",
   "execution_count": null,
   "metadata": {},
   "outputs": [],
   "source": [
    "len(index)"
   ]
  },
  {
   "cell_type": "markdown",
   "metadata": {},
   "source": [
    "Of course, if the first column is truly an index, we can look at the last value and see how many rows of data we have. Python allows negative indices, which are interpreted as moving backward from the end of the array (cute!)."
   ]
  },
  {
   "cell_type": "code",
   "execution_count": null,
   "metadata": {},
   "outputs": [],
   "source": [
    "index[-1]"
   ]
  },
  {
   "cell_type": "markdown",
   "metadata": {},
   "source": [
    "There is another (much easier, actually) way to load data from a csv file that I'd like to introduce you to. It is a method in pandas called <a href=\"https://pandas.pydata.org/pandas-docs/stable/reference/api/pandas.read_csv.html\">read_csv</a>. This is an unbelievably flexible method that loads the data into a pandas <a href=\"https://pandas.pydata.org/pandas-docs/stable/reference/api/pandas.DataFrame.html\">DataFrame</a>, which is very flexible and powerful data structure. Might as well get familiar with them now."
   ]
  },
  {
   "cell_type": "code",
   "execution_count": null,
   "metadata": {},
   "outputs": [],
   "source": [
    "data = pd.read_csv('WorldPopulation.csv',index_col=0)"
   ]
  },
  {
   "cell_type": "markdown",
   "metadata": {},
   "source": [
    "We can take a look at the data in this form by simply typing the name of the DataFrame."
   ]
  },
  {
   "cell_type": "code",
   "execution_count": null,
   "metadata": {},
   "outputs": [],
   "source": [
    "data"
   ]
  },
  {
   "cell_type": "markdown",
   "metadata": {},
   "source": [
    "Pandas DataFrames are a whole world that we will get into later. For now, know that you can extract each column of data by using the <a href=\"https://pandas.pydata.org/pandas-docs/stable/reference/api/pandas.DataFrame.to_numpy.html\">to_numpy()</a> method. "
   ]
  },
  {
   "cell_type": "code",
   "execution_count": null,
   "metadata": {},
   "outputs": [],
   "source": [
    "year = data['Year'].to_numpy()\n",
    "population = data['Population'].to_numpy()"
   ]
  },
  {
   "cell_type": "markdown",
   "metadata": {},
   "source": [
    "Notice that we seamlessly overwrote varibles with the same name as before. This is worth a pause as it shows the power, flexibility, and _danger_ of a high level language like python\n",
    "\n",
    "More on this later. For now, let's move on.\n",
    "\n",
    "Let's make a basic plot of the data. The plot function in matplotlib is extensive (see the manual pages <a href=\"https://matplotlib.org/3.2.1/api/_as_gen/matplotlib.pyplot.plot.html\">here</a>). However, it is built so that it is easy to use if you want to take a quick look at some data (exactly what we want!). The following commands will produce an interactive plot in the window below. Play around with the view. But, be sure to hit the power symbol at the top of the plot after you're done fiddling."
   ]
  },
  {
   "cell_type": "code",
   "execution_count": null,
   "metadata": {},
   "outputs": [],
   "source": [
    "plt.figure(1)\n",
    "plt.plot(year,population,color='black',marker='.',linestyle='-')"
   ]
  },
  {
   "cell_type": "markdown",
   "metadata": {},
   "source": [
    "BTW, the python language is all about efficiency, and so many of the modules written for python have built in shortcuts. In this example, you can achieve the same results with the following plot commands:"
   ]
  },
  {
   "cell_type": "code",
   "execution_count": null,
   "metadata": {},
   "outputs": [],
   "source": [
    "plt.figure(2)\n",
    "plt.plot(year, population,'k.-')"
   ]
  },
  {
   "cell_type": "markdown",
   "metadata": {},
   "source": [
    "But what if you don't care about prehistoric times and just want to plot the last 50 years? We can select out data in a myriad of ways. Here are a few examples."
   ]
  },
  {
   "cell_type": "code",
   "execution_count": null,
   "metadata": {},
   "outputs": [],
   "source": [
    "inds = year >= 1960\n",
    "plt.figure(3)\n",
    "plt.plot(year[inds],population[inds],'k.-')"
   ]
  },
  {
   "cell_type": "markdown",
   "metadata": {},
   "source": [
    "This is a pretty steep plot (given that the vertical axis is given in billions!). Let's plot it on a log scale to see if it is exponential"
   ]
  },
  {
   "cell_type": "code",
   "execution_count": null,
   "metadata": {},
   "outputs": [],
   "source": [
    "plt.figure(4)\n",
    "plt.plot(year[inds],population[inds],'k.-')\n",
    "plt.yscale('log')"
   ]
  },
  {
   "cell_type": "markdown",
   "metadata": {},
   "source": [
    "Interesting! It appears that the world population is on an exponential rise since the 1960's. However, the exponential index seems to have changed around the 1990's to a slower rate. \n",
    "\n",
    "What about the full data set? Let's also pretty up our plot with some labels and titles..."
   ]
  },
  {
   "cell_type": "code",
   "execution_count": null,
   "metadata": {},
   "outputs": [],
   "source": [
    "plt.figure(5)\n",
    "plt.plot(year,population,'k.-')\n",
    "plt.yscale('log')\n",
    "plt.xlabel('Year')\n",
    "plt.ylabel('World Population')\n",
    "plt.title('World Population Growth')"
   ]
  },
  {
   "cell_type": "markdown",
   "metadata": {},
   "source": [
    "Fascinating! There are several different epochs of world population growth. \n",
    "\n",
    "## Homework\n",
    "1. Use the interactive plotting feature to zero in on the epoch when the human population leveled off for the first time (looks like right near the beginning of the \"Dark Ages\"). Make a plot, either linear or log, that shows this time period and title it appropriately.\n",
    "2. Use the interactive plotting feature to zero in on the epoch when the human population entered into the extreme growth that we are still experiencing on Earth. Make a plot, either linear or log, that shows this time period and title it appropriately."
   ]
  },
  {
   "cell_type": "code",
   "execution_count": null,
   "metadata": {},
   "outputs": [],
   "source": []
  }
 ],
 "metadata": {
  "kernelspec": {
   "display_name": "Python 2",
   "language": "python",
   "name": "python2"
  },
  "language_info": {
   "codemirror_mode": {
    "name": "ipython",
    "version": 2
   },
   "file_extension": ".py",
   "mimetype": "text/x-python",
   "name": "python",
   "nbconvert_exporter": "python",
   "pygments_lexer": "ipython2",
   "version": "2.7.16"
  }
 },
 "nbformat": 4,
 "nbformat_minor": 2
}
